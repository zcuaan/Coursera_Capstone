{
 "cells": [
  {
   "cell_type": "markdown",
   "metadata": {},
   "source": [
    "Whether you are travelling to meet family, friends or to see new places, it can be a relief to know that you will be able to make it every step of the way. When travelling with a disability, it can become very difficult when places aren't accessible to you.\n",
    "\n",
    "In this project we consider producing a full analysis and visualisation of venues in the UK that accommodate to those with specific needs and disabilities. Everyone's accessibility needs are different and it's important that we accommodate to everyone so that travelling in the UK is easy for everyone, regardless of their backgrounds.\n",
    "\n",
    "By fully understanding the extent of accesibility features in various areas of the UK, we will be able to target certain councils to improve their facilities to accommodate for everyone."
   ]
  }
 ],
 "metadata": {
  "kernelspec": {
   "display_name": "Python 3",
   "language": "python",
   "name": "python3"
  },
  "language_info": {
   "codemirror_mode": {
    "name": "ipython",
    "version": 3
   },
   "file_extension": ".py",
   "mimetype": "text/x-python",
   "name": "python",
   "nbconvert_exporter": "python",
   "pygments_lexer": "ipython3",
   "version": "3.6.4"
  }
 },
 "nbformat": 4,
 "nbformat_minor": 2
}
