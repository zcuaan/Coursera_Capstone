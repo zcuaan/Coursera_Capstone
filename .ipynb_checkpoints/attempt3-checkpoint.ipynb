{
 "cells": [
  {
   "cell_type": "code",
   "execution_count": 3,
   "metadata": {},
   "outputs": [],
   "source": [
    "import pandas as pd\n",
    "import numpy as np\n",
    "import pickle\n",
    "\n",
    "pickle_in = open(\"name.pickle\",\"rb\")\n",
    "name = pickle.load(pickle_in)\n",
    "\n",
    "pickle_in = open(\"address.pickle\",\"rb\")\n",
    "address = pickle.load(pickle_in)\n",
    "\n",
    "pickle_in = open(\"features.pickle\",\"rb\")\n",
    "features = pickle.load(pickle_in)\n",
    "\n",
    "pickle_in = open(\"df.pickle\",\"rb\")\n",
    "df = pickle.load(pickle_in)"
   ]
  },
  {
   "cell_type": "code",
   "execution_count": 8,
   "metadata": {},
   "outputs": [],
   "source": [
    "latitude = []\n",
    "longitude = []"
   ]
  },
  {
   "cell_type": "code",
   "execution_count": null,
   "metadata": {},
   "outputs": [],
   "source": [
    "geolocator = Nominatim(timeout=5)\n",
    "\n",
    "for i in range(11790, len(df)):\n",
    "    location = geolocator.geocode(df['Full'][i])\n",
    "    if location is None:\n",
    "        a = re.split('[?.,\\-!+()]', df['Full'][i])\n",
    "        location2 = geolocator.geocode(a[0]+', '+a[-1])\n",
    "        if location2 is None:\n",
    "            latitude.append('NA')\n",
    "            longitude.append('NA')\n",
    "        else:\n",
    "            latitude.append(location2.latitude)\n",
    "            longitude.append(location2.longitude)      \n",
    "    else:\n",
    "        latitude.append(location.latitude)\n",
    "        longitude.append(location.longitude)\n",
    "    print(i, 'complete')"
   ]
  }
 ],
 "metadata": {
  "kernelspec": {
   "display_name": "Python 3",
   "language": "python",
   "name": "python3"
  },
  "language_info": {
   "codemirror_mode": {
    "name": "ipython",
    "version": 3
   },
   "file_extension": ".py",
   "mimetype": "text/x-python",
   "name": "python",
   "nbconvert_exporter": "python",
   "pygments_lexer": "ipython3",
   "version": "3.6.4"
  }
 },
 "nbformat": 4,
 "nbformat_minor": 2
}
