{
 "cells": [
  {
   "cell_type": "markdown",
   "metadata": {},
   "source": [
    "In order to understand the extent of the accessibility features in the UK and its various venues, we consider extracting the venue database from AccessAble (an accessibility guide for the UK). In total, it includes __36,558 different venues__ in the UK. This will be able to help us understand exactly which areas of the UK have which features. Each venue is checked to see if it has any of the 32 different features:\n",
    "\n",
    "* Level Access and Automatic Doors (or No Doors)\n",
    "* Ramped/Sloped Access, and/or Manual Doors\n",
    "* Ramped/Sloped Access that is Long / Steep (may have Manual Doors)\n",
    "* Mobility Impaired Walker\n",
    "* On-Site Parking\n",
    "* Off-Site Parking\n",
    "* Blue Badge/Accessible Parking Bays\n",
    "* Designated Drop-Off Point\n",
    "* Accessible Toilet\n",
    "* Ambulant Toilet\n",
    "* Step Free Standard Toilet\n",
    "* Gender Neutral Toilet\n",
    "* Baby Changing Facility\n",
    "* Changing Place\n",
    "* Accessible Changing Room\n",
    "* Accessible Fitting Room\n",
    "* Accessible Accommodation\n",
    "* Hoist\n",
    "* Accessible Shower\n",
    "* Seat(s) Available\n",
    "* Safe or Quiet Space\n",
    "* Sign Language\n",
    "* Assistive Listening\n",
    "* Audio Description\n",
    "* Audio Format Information\n",
    "* Large Print\n",
    "* Braille\n",
    "* Facilities for Assistance Dogs\n",
    "* Disability Awareness/Equality Training\n",
    "* Dementia Friendly\n",
    "* Companion/Carer Discount\n",
    "* Home Visit\n",
    "\n",
    "Further analysis will then be conducted on the above data. In order to visualise the data, we will locate its geographical coordinates using GeoPy.\n",
    "\n",
    "As the Accessable dataset will not cover all venues in the UK, Foursquare will then be utilised to further understand the venue, understand how busy the area surrounding each is and assess its popularity. With this, we can also assess the urgency of accommodating for people with different needs."
   ]
  },
  {
   "cell_type": "code",
   "execution_count": null,
   "metadata": {},
   "outputs": [],
   "source": []
  }
 ],
 "metadata": {
  "kernelspec": {
   "display_name": "Python 3",
   "language": "python",
   "name": "python3"
  },
  "language_info": {
   "codemirror_mode": {
    "name": "ipython",
    "version": 3
   },
   "file_extension": ".py",
   "mimetype": "text/x-python",
   "name": "python",
   "nbconvert_exporter": "python",
   "pygments_lexer": "ipython3",
   "version": "3.6.4"
  }
 },
 "nbformat": 4,
 "nbformat_minor": 2
}
